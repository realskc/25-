{
 "cells": [
  {
   "cell_type": "code",
   "execution_count": null,
   "metadata": {},
   "outputs": [],
   "source": [
    "# 删除无效数据，去重，更改部分列名称\n",
    "\n",
    "import pandas as pd\n",
    "data = pd.read_csv(\"data.csv\", encoding=\"gbk\")\n",
    "data.rename(columns={'1、姓名（不是 ID）': '姓名'}, inplace=True)\n",
    "data.rename(columns={'2、ID': 'ID'}, inplace=True)\n",
    "data.rename(columns={'3、手机号': '手机号'}, inplace=True)\n",
    "data = data[data['姓名'] != 'aaa']\n",
    "data = data.drop_duplicates(subset=['姓名', 'ID', '手机号'], keep='last', ignore_index=True)\n",
    "# print(data)"
   ]
  },
  {
   "cell_type": "code",
   "execution_count": null,
   "metadata": {},
   "outputs": [],
   "source": [
    "# 检查是否有疑似相同的问卷\n",
    "\n",
    "# print(data)\n",
    "for i in range(len(data)):\n",
    "\tfor j in range(i):\n",
    "\t\tif data.loc[j, '姓名'] == data.loc[i, '姓名']\\\n",
    "\t\tor data.loc[j, 'ID'] == data.loc[i, 'ID']\\\n",
    "\t\tor data.loc[j, '手机号'] == data.loc[i, '手机号']:\n",
    "\t\t\tprint(f'Warning: Row {j} and Row {i} may be the same person.')\n",
    "\t\t\tprint(data.loc[j, ['姓名', 'ID', '手机号']])\n",
    "\t\t\tprint(data.loc[i, ['姓名', 'ID', '手机号']])\n"
   ]
  },
  {
   "cell_type": "code",
   "execution_count": null,
   "metadata": {},
   "outputs": [],
   "source": [
    "# 将列名称从款式补全为完整商品\n",
    "\n",
    "cols = data.columns.tolist()\n",
    "# print(cols)\n",
    "phone_visited = False\n",
    "for i in range(0,len(cols)):\n",
    "\tif cols[i] == '手机号':\n",
    "\t\tphone_visited = True\n",
    "\t\tcontinue\n",
    "\tif not phone_visited:\n",
    "\t\tcontinue\n",
    "\tif cols[i].split('、')[0] == cols[i-1].split('、')[0]:\n",
    "\t\tcols[i] = '('.join(cols[i-1].split('(')[:-1])+'('+cols[i].split('(')[-1]\n",
    "# print(cols)\n",
    "data.columns = cols\n",
    "# print(data.columns)"
   ]
  },
  {
   "cell_type": "code",
   "execution_count": null,
   "metadata": {},
   "outputs": [],
   "source": [
    "# 特殊处理\n",
    "\n",
    "if data.loc[64, '姓名'] == '丁田' and data.loc[64, 'ID'] == '雾屿':\n",
    "\tdata.drop(64, axis=0, inplace=True)\n",
    "\tdata = data.reset_index(drop=True)\n",
    "\n",
    "data.loc[data['ID'] == '菜菜', '17、宽大座垫(黑蓝)'] = 0\n",
    "# print(data.loc[data['ID'] == '菜菜', '17、宽大座垫(黑蓝)'])\n",
    "data['4、头巾(30)'] = 0\n",
    "\n",
    "data.to_csv('output.csv', index=False, sep=',', encoding='gbk')"
   ]
  },
  {
   "cell_type": "code",
   "execution_count": null,
   "metadata": {},
   "outputs": [],
   "source": [
    "# 对列统计\n",
    "\n",
    "col_sums = data.sum(numeric_only=True, skipna=True).astype(int)\n",
    "\n",
    "col_sums.to_csv('total.csv', index=True, sep=',', encoding='gbk')"
   ]
  },
  {
   "cell_type": "code",
   "execution_count": null,
   "metadata": {},
   "outputs": [],
   "source": [
    "prices = pd.read_csv(\"prices.csv\", encoding=\"utf-8\")\n",
    "\n",
    "# print(prices[\"商品\"])\n",
    "cols = data.columns.tolist()\n",
    "\n",
    "sum = 0\n",
    "\n",
    "charge_table = pd.DataFrame(columns=['姓名', '金额'])\n",
    "\n",
    "for i in range(len(data)):\n",
    "\ttotal_100 = 0\n",
    "\tfor col in cols:\n",
    "\t\tcnt = data.loc[i, col]\n",
    "\t\tif (prices['商品'] == col).any():\n",
    "\t\t\tif not pd.isna(cnt):\n",
    "\t\t\t\tunit_price = prices.loc[prices['商品'] == col, '单价'].iloc[0]\n",
    "\t\t\t\ttotal_100 += round(unit_price * 100) * int(cnt)\n",
    "\tsum += total_100\n",
    "\tcharge_table.loc[len(charge_table)] = [data.loc[i, '姓名'], total_100 / 100]\n",
    "\n",
    "# print(sum / 100)\n",
    "\n",
    "charge_table.to_csv('charge.csv', index=True, sep=',', encoding='gbk')"
   ]
  }
 ],
 "metadata": {
  "kernelspec": {
   "display_name": "aibasis",
   "language": "python",
   "name": "python3"
  },
  "language_info": {
   "codemirror_mode": {
    "name": "ipython",
    "version": 3
   },
   "file_extension": ".py",
   "mimetype": "text/x-python",
   "name": "python",
   "nbconvert_exporter": "python",
   "pygments_lexer": "ipython3",
   "version": "3.12.2"
  }
 },
 "nbformat": 4,
 "nbformat_minor": 2
}
